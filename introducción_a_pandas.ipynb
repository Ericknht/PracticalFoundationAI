{
  "nbformat": 4,
  "nbformat_minor": 0,
  "metadata": {
    "colab": {
      "name": "introducción a pandas.ipynb",
      "provenance": [],
      "authorship_tag": "ABX9TyMqkSmNngn2o8Bq2GNHHdhL",
      "include_colab_link": true
    },
    "kernelspec": {
      "name": "python3",
      "display_name": "Python 3"
    }
  },
  "cells": [
    {
      "cell_type": "markdown",
      "metadata": {
        "id": "view-in-github",
        "colab_type": "text"
      },
      "source": [
        "<a href=\"https://colab.research.google.com/github/Ericknht/PracticalFoundationAI/blob/main/introducci%C3%B3n_a_pandas.ipynb\" target=\"_parent\"><img src=\"https://colab.research.google.com/assets/colab-badge.svg\" alt=\"Open In Colab\"/></a>"
      ]
    },
    {
      "cell_type": "code",
      "metadata": {
        "id": "b0GCz55lTJLK"
      },
      "source": [
        "import pandas as pd"
      ],
      "execution_count": null,
      "outputs": []
    },
    {
      "cell_type": "code",
      "metadata": {
        "colab": {
          "base_uri": "https://localhost:8080/"
        },
        "id": "62J7TFwkTNzr",
        "outputId": "98e1412f-dd50-4dc7-9102-e5d7765306f6"
      },
      "source": [
        "series = pd.Series([5, 10, 15, 20, 25])\n",
        "series"
      ],
      "execution_count": null,
      "outputs": [
        {
          "output_type": "execute_result",
          "data": {
            "text/plain": [
              "0     5\n",
              "1    10\n",
              "2    15\n",
              "3    20\n",
              "4    25\n",
              "dtype: int64"
            ]
          },
          "metadata": {
            "tags": []
          },
          "execution_count": 3
        }
      ]
    },
    {
      "cell_type": "code",
      "metadata": {
        "colab": {
          "base_uri": "https://localhost:8080/"
        },
        "id": "kjx6-wmFTTWc",
        "outputId": "3b3591dc-5f66-412c-f471-07042ec314bf"
      },
      "source": [
        "type(series)"
      ],
      "execution_count": null,
      "outputs": [
        {
          "output_type": "execute_result",
          "data": {
            "text/plain": [
              "pandas.core.series.Series"
            ]
          },
          "metadata": {
            "tags": []
          },
          "execution_count": 4
        }
      ]
    },
    {
      "cell_type": "code",
      "metadata": {
        "colab": {
          "base_uri": "https://localhost:8080/"
        },
        "id": "33Y7uw6xTYSU",
        "outputId": "fc7dff3b-7f01-42fd-9ca6-13964e7977c6"
      },
      "source": [
        "series[3]"
      ],
      "execution_count": null,
      "outputs": [
        {
          "output_type": "execute_result",
          "data": {
            "text/plain": [
              "20"
            ]
          },
          "metadata": {
            "tags": []
          },
          "execution_count": 5
        }
      ]
    },
    {
      "cell_type": "code",
      "metadata": {
        "colab": {
          "base_uri": "https://localhost:8080/"
        },
        "id": "xrc7JtB3Td4r",
        "outputId": "dced8da4-83dc-4833-dd6b-c629ebe25134"
      },
      "source": [
        "cad = pd.Series(['p', 'l', 'a', 't', 'z', 'i'])\n",
        "cad"
      ],
      "execution_count": null,
      "outputs": [
        {
          "output_type": "execute_result",
          "data": {
            "text/plain": [
              "0    p\n",
              "1    l\n",
              "2    a\n",
              "3    t\n",
              "4    z\n",
              "5    i\n",
              "dtype: object"
            ]
          },
          "metadata": {
            "tags": []
          },
          "execution_count": 6
        }
      ]
    },
    {
      "cell_type": "code",
      "metadata": {
        "colab": {
          "base_uri": "https://localhost:8080/"
        },
        "id": "0dPg-zgXTpdU",
        "outputId": "6afdd3f2-294f-45c9-d75a-04ceadbaf5ce"
      },
      "source": [
        "lst = ['hola', 'mundo', 'robótico']\n",
        "df = pd.DataFrame(lst)\n",
        "print(df)"
      ],
      "execution_count": null,
      "outputs": [
        {
          "output_type": "stream",
          "text": [
            "          0\n",
            "0      hola\n",
            "1     mundo\n",
            "2  robótico\n"
          ],
          "name": "stdout"
        }
      ]
    },
    {
      "cell_type": "code",
      "metadata": {
        "colab": {
          "base_uri": "https://localhost:8080/",
          "height": 166
        },
        "id": "W9cZgTRYT3Oc",
        "outputId": "d0560362-1b75-4445-8f1c-475ecc7cf667"
      },
      "source": [
        "data = {'Nombre': ['Juan', 'Ana', 'Jose', 'Arturo'],\n",
        "        'Edad': [25, 18, 23, 27],\n",
        "        'Pais': ['MX', 'CO', 'BR', 'MX']}\n",
        "df = pd.DataFrame(data)\n",
        "df"
      ],
      "execution_count": null,
      "outputs": [
        {
          "output_type": "execute_result",
          "data": {
            "text/html": [
              "<div>\n",
              "<style scoped>\n",
              "    .dataframe tbody tr th:only-of-type {\n",
              "        vertical-align: middle;\n",
              "    }\n",
              "\n",
              "    .dataframe tbody tr th {\n",
              "        vertical-align: top;\n",
              "    }\n",
              "\n",
              "    .dataframe thead th {\n",
              "        text-align: right;\n",
              "    }\n",
              "</style>\n",
              "<table border=\"1\" class=\"dataframe\">\n",
              "  <thead>\n",
              "    <tr style=\"text-align: right;\">\n",
              "      <th></th>\n",
              "      <th>Nombre</th>\n",
              "      <th>Edad</th>\n",
              "      <th>Pais</th>\n",
              "    </tr>\n",
              "  </thead>\n",
              "  <tbody>\n",
              "    <tr>\n",
              "      <th>0</th>\n",
              "      <td>Juan</td>\n",
              "      <td>25</td>\n",
              "      <td>MX</td>\n",
              "    </tr>\n",
              "    <tr>\n",
              "      <th>1</th>\n",
              "      <td>Ana</td>\n",
              "      <td>18</td>\n",
              "      <td>CO</td>\n",
              "    </tr>\n",
              "    <tr>\n",
              "      <th>2</th>\n",
              "      <td>Jose</td>\n",
              "      <td>23</td>\n",
              "      <td>BR</td>\n",
              "    </tr>\n",
              "    <tr>\n",
              "      <th>3</th>\n",
              "      <td>Arturo</td>\n",
              "      <td>27</td>\n",
              "      <td>MX</td>\n",
              "    </tr>\n",
              "  </tbody>\n",
              "</table>\n",
              "</div>"
            ],
            "text/plain": [
              "   Nombre  Edad Pais\n",
              "0    Juan    25   MX\n",
              "1     Ana    18   CO\n",
              "2    Jose    23   BR\n",
              "3  Arturo    27   MX"
            ]
          },
          "metadata": {
            "tags": []
          },
          "execution_count": 10
        }
      ]
    },
    {
      "cell_type": "code",
      "metadata": {
        "colab": {
          "base_uri": "https://localhost:8080/"
        },
        "id": "kaTJtJdeUdPR",
        "outputId": "8fd0ac2f-f439-4b79-e8e3-6ffef9803395"
      },
      "source": [
        "print( df[['Nombre', 'Pais']])"
      ],
      "execution_count": null,
      "outputs": [
        {
          "output_type": "stream",
          "text": [
            "   Nombre Pais\n",
            "0    Juan   MX\n",
            "1     Ana   CO\n",
            "2    Jose   BR\n",
            "3  Arturo   MX\n"
          ],
          "name": "stdout"
        }
      ]
    },
    {
      "cell_type": "code",
      "metadata": {
        "colab": {
          "base_uri": "https://localhost:8080/",
          "height": 333
        },
        "id": "3hlQFmsIUjn0",
        "outputId": "5957f87d-5aca-4797-f5eb-54c3e029e385"
      },
      "source": [
        "data = pd.read_csv('canciones-2018.csv')\n",
        "data.head(5)"
      ],
      "execution_count": null,
      "outputs": [
        {
          "output_type": "execute_result",
          "data": {
            "text/html": [
              "<div>\n",
              "<style scoped>\n",
              "    .dataframe tbody tr th:only-of-type {\n",
              "        vertical-align: middle;\n",
              "    }\n",
              "\n",
              "    .dataframe tbody tr th {\n",
              "        vertical-align: top;\n",
              "    }\n",
              "\n",
              "    .dataframe thead th {\n",
              "        text-align: right;\n",
              "    }\n",
              "</style>\n",
              "<table border=\"1\" class=\"dataframe\">\n",
              "  <thead>\n",
              "    <tr style=\"text-align: right;\">\n",
              "      <th></th>\n",
              "      <th>id</th>\n",
              "      <th>name</th>\n",
              "      <th>artists</th>\n",
              "      <th>danceability</th>\n",
              "      <th>energy</th>\n",
              "      <th>key</th>\n",
              "      <th>loudness</th>\n",
              "      <th>mode</th>\n",
              "      <th>speechiness</th>\n",
              "      <th>acousticness</th>\n",
              "      <th>instrumentalness</th>\n",
              "      <th>liveness</th>\n",
              "      <th>valence</th>\n",
              "      <th>tempo</th>\n",
              "      <th>duration_ms</th>\n",
              "      <th>time_signature</th>\n",
              "    </tr>\n",
              "  </thead>\n",
              "  <tbody>\n",
              "    <tr>\n",
              "      <th>0</th>\n",
              "      <td>6DCZcSspjsKoFjzjrWoCd</td>\n",
              "      <td>God's Plan</td>\n",
              "      <td>Drake</td>\n",
              "      <td>0.754</td>\n",
              "      <td>0.449</td>\n",
              "      <td>7.0</td>\n",
              "      <td>-9.211</td>\n",
              "      <td>1.0</td>\n",
              "      <td>0.1090</td>\n",
              "      <td>0.0332</td>\n",
              "      <td>0.000083</td>\n",
              "      <td>0.552</td>\n",
              "      <td>0.357</td>\n",
              "      <td>77.169</td>\n",
              "      <td>198973.0</td>\n",
              "      <td>4.0</td>\n",
              "    </tr>\n",
              "    <tr>\n",
              "      <th>1</th>\n",
              "      <td>3ee8Jmje8o58CHK66QrVC</td>\n",
              "      <td>SAD!</td>\n",
              "      <td>XXXTENTACION</td>\n",
              "      <td>0.740</td>\n",
              "      <td>0.613</td>\n",
              "      <td>8.0</td>\n",
              "      <td>-4.880</td>\n",
              "      <td>1.0</td>\n",
              "      <td>0.1450</td>\n",
              "      <td>0.2580</td>\n",
              "      <td>0.003720</td>\n",
              "      <td>0.123</td>\n",
              "      <td>0.473</td>\n",
              "      <td>75.023</td>\n",
              "      <td>166606.0</td>\n",
              "      <td>4.0</td>\n",
              "    </tr>\n",
              "    <tr>\n",
              "      <th>2</th>\n",
              "      <td>0e7ipj03S05BNilyu5bRz</td>\n",
              "      <td>rockstar (feat. 21 Savage)</td>\n",
              "      <td>Post Malone</td>\n",
              "      <td>0.587</td>\n",
              "      <td>0.535</td>\n",
              "      <td>5.0</td>\n",
              "      <td>-6.090</td>\n",
              "      <td>0.0</td>\n",
              "      <td>0.0898</td>\n",
              "      <td>0.1170</td>\n",
              "      <td>0.000066</td>\n",
              "      <td>0.131</td>\n",
              "      <td>0.140</td>\n",
              "      <td>159.847</td>\n",
              "      <td>218147.0</td>\n",
              "      <td>4.0</td>\n",
              "    </tr>\n",
              "    <tr>\n",
              "      <th>3</th>\n",
              "      <td>3swc6WTsr7rl9DqQKQA55</td>\n",
              "      <td>Psycho (feat. Ty Dolla $ign)</td>\n",
              "      <td>Post Malone</td>\n",
              "      <td>0.739</td>\n",
              "      <td>0.559</td>\n",
              "      <td>8.0</td>\n",
              "      <td>-8.011</td>\n",
              "      <td>1.0</td>\n",
              "      <td>0.1170</td>\n",
              "      <td>0.5800</td>\n",
              "      <td>0.000000</td>\n",
              "      <td>0.112</td>\n",
              "      <td>0.439</td>\n",
              "      <td>140.124</td>\n",
              "      <td>221440.0</td>\n",
              "      <td>4.0</td>\n",
              "    </tr>\n",
              "    <tr>\n",
              "      <th>4</th>\n",
              "      <td>2G7V7zsVDxg1yRsu7Ew9R</td>\n",
              "      <td>In My Feelings</td>\n",
              "      <td>Drake</td>\n",
              "      <td>0.835</td>\n",
              "      <td>0.626</td>\n",
              "      <td>1.0</td>\n",
              "      <td>-5.833</td>\n",
              "      <td>1.0</td>\n",
              "      <td>0.1250</td>\n",
              "      <td>0.0589</td>\n",
              "      <td>0.000060</td>\n",
              "      <td>0.396</td>\n",
              "      <td>0.350</td>\n",
              "      <td>91.030</td>\n",
              "      <td>217925.0</td>\n",
              "      <td>4.0</td>\n",
              "    </tr>\n",
              "  </tbody>\n",
              "</table>\n",
              "</div>"
            ],
            "text/plain": [
              "                      id  ... time_signature\n",
              "0  6DCZcSspjsKoFjzjrWoCd  ...            4.0\n",
              "1  3ee8Jmje8o58CHK66QrVC  ...            4.0\n",
              "2  0e7ipj03S05BNilyu5bRz  ...            4.0\n",
              "3  3swc6WTsr7rl9DqQKQA55  ...            4.0\n",
              "4  2G7V7zsVDxg1yRsu7Ew9R  ...            4.0\n",
              "\n",
              "[5 rows x 16 columns]"
            ]
          },
          "metadata": {
            "tags": []
          },
          "execution_count": 14
        }
      ]
    },
    {
      "cell_type": "code",
      "metadata": {
        "colab": {
          "base_uri": "https://localhost:8080/",
          "height": 35
        },
        "id": "k1IUiPUFZ_li",
        "outputId": "c47d356b-1152-4f7c-fbf6-a08ae7ed40a3"
      },
      "source": [
        "artista = data.artists\n",
        "artista[5]"
      ],
      "execution_count": null,
      "outputs": [
        {
          "output_type": "execute_result",
          "data": {
            "application/vnd.google.colaboratory.intrinsic+json": {
              "type": "string"
            },
            "text/plain": [
              "'Post Malone'"
            ]
          },
          "metadata": {
            "tags": []
          },
          "execution_count": 16
        }
      ]
    },
    {
      "cell_type": "code",
      "metadata": {
        "id": "CAdkEsldRhf1"
      },
      "source": [
        "from google.colab import drive\n",
        "drive.mount('/content/drive')"
      ],
      "execution_count": null,
      "outputs": []
    },
    {
      "cell_type": "code",
      "metadata": {
        "colab": {
          "base_uri": "https://localhost:8080/"
        },
        "id": "ycSO0pfXac7d",
        "outputId": "8c65c09a-700c-4de1-c0cf-42bf19f24c33"
      },
      "source": [
        "info = data.iloc[15]\n",
        "info"
      ],
      "execution_count": null,
      "outputs": [
        {
          "output_type": "execute_result",
          "data": {
            "text/plain": [
              "id                     3GCdLUSnKSMJhs4Tj6CV3\n",
              "name                All The Stars (with SZA)\n",
              "artists                       Kendrick Lamar\n",
              "danceability                           0.698\n",
              "energy                                 0.633\n",
              "key                                        8\n",
              "loudness                              -4.946\n",
              "mode                                       1\n",
              "speechiness                           0.0597\n",
              "acousticness                          0.0605\n",
              "instrumentalness                    0.000194\n",
              "liveness                              0.0926\n",
              "valence                                0.552\n",
              "tempo                                 96.924\n",
              "duration_ms                           232187\n",
              "time_signature                             4\n",
              "Name: 15, dtype: object"
            ]
          },
          "metadata": {
            "tags": []
          },
          "execution_count": 17
        }
      ]
    },
    {
      "cell_type": "code",
      "metadata": {
        "colab": {
          "base_uri": "https://localhost:8080/",
          "height": 383
        },
        "id": "mZutVG5TajOE",
        "outputId": "9df994da-c591-4b9c-e715-0714a1052a05"
      },
      "source": [
        "data.tail()"
      ],
      "execution_count": null,
      "outputs": [
        {
          "output_type": "execute_result",
          "data": {
            "text/html": [
              "<div>\n",
              "<style scoped>\n",
              "    .dataframe tbody tr th:only-of-type {\n",
              "        vertical-align: middle;\n",
              "    }\n",
              "\n",
              "    .dataframe tbody tr th {\n",
              "        vertical-align: top;\n",
              "    }\n",
              "\n",
              "    .dataframe thead th {\n",
              "        text-align: right;\n",
              "    }\n",
              "</style>\n",
              "<table border=\"1\" class=\"dataframe\">\n",
              "  <thead>\n",
              "    <tr style=\"text-align: right;\">\n",
              "      <th></th>\n",
              "      <th>id</th>\n",
              "      <th>name</th>\n",
              "      <th>artists</th>\n",
              "      <th>danceability</th>\n",
              "      <th>energy</th>\n",
              "      <th>key</th>\n",
              "      <th>loudness</th>\n",
              "      <th>mode</th>\n",
              "      <th>speechiness</th>\n",
              "      <th>acousticness</th>\n",
              "      <th>instrumentalness</th>\n",
              "      <th>liveness</th>\n",
              "      <th>valence</th>\n",
              "      <th>tempo</th>\n",
              "      <th>duration_ms</th>\n",
              "      <th>time_signature</th>\n",
              "    </tr>\n",
              "  </thead>\n",
              "  <tbody>\n",
              "    <tr>\n",
              "      <th>95</th>\n",
              "      <td>630sXRhIcfwr2e4RdNtjK</td>\n",
              "      <td>Rewrite The Stars</td>\n",
              "      <td>Zac Efron</td>\n",
              "      <td>0.684</td>\n",
              "      <td>0.619</td>\n",
              "      <td>10.0</td>\n",
              "      <td>-7.005</td>\n",
              "      <td>1.0</td>\n",
              "      <td>0.0386</td>\n",
              "      <td>0.0716</td>\n",
              "      <td>0.000000</td>\n",
              "      <td>0.1220</td>\n",
              "      <td>0.2840</td>\n",
              "      <td>125.046</td>\n",
              "      <td>217440.0</td>\n",
              "      <td>4.0</td>\n",
              "    </tr>\n",
              "    <tr>\n",
              "      <th>96</th>\n",
              "      <td>2xmrfQpmS2iJExTlklLoA</td>\n",
              "      <td>I Miss You (feat. Julia Michaels)</td>\n",
              "      <td>Clean Bandit</td>\n",
              "      <td>0.638</td>\n",
              "      <td>0.658</td>\n",
              "      <td>3.0</td>\n",
              "      <td>-6.318</td>\n",
              "      <td>1.0</td>\n",
              "      <td>0.0456</td>\n",
              "      <td>0.2450</td>\n",
              "      <td>0.000004</td>\n",
              "      <td>0.0919</td>\n",
              "      <td>0.3300</td>\n",
              "      <td>105.076</td>\n",
              "      <td>205748.0</td>\n",
              "      <td>4.0</td>\n",
              "    </tr>\n",
              "    <tr>\n",
              "      <th>97</th>\n",
              "      <td>5WvAo7DNuPRmk4APhdPzi</td>\n",
              "      <td>No Brainer</td>\n",
              "      <td>DJ Khaled</td>\n",
              "      <td>0.552</td>\n",
              "      <td>0.760</td>\n",
              "      <td>0.0</td>\n",
              "      <td>-4.706</td>\n",
              "      <td>1.0</td>\n",
              "      <td>0.3420</td>\n",
              "      <td>0.0733</td>\n",
              "      <td>0.000000</td>\n",
              "      <td>0.0865</td>\n",
              "      <td>0.6390</td>\n",
              "      <td>135.702</td>\n",
              "      <td>260000.0</td>\n",
              "      <td>5.0</td>\n",
              "    </tr>\n",
              "    <tr>\n",
              "      <th>98</th>\n",
              "      <td>1j4kHkkpqZRBwE0A4CN4Y</td>\n",
              "      <td>Dusk Till Dawn - Radio Edit</td>\n",
              "      <td>ZAYN</td>\n",
              "      <td>0.258</td>\n",
              "      <td>0.437</td>\n",
              "      <td>11.0</td>\n",
              "      <td>-6.593</td>\n",
              "      <td>0.0</td>\n",
              "      <td>0.0390</td>\n",
              "      <td>0.1010</td>\n",
              "      <td>0.000001</td>\n",
              "      <td>0.1060</td>\n",
              "      <td>0.0967</td>\n",
              "      <td>180.043</td>\n",
              "      <td>239000.0</td>\n",
              "      <td>4.0</td>\n",
              "    </tr>\n",
              "    <tr>\n",
              "      <th>99</th>\n",
              "      <td>3EPXxR3ImUwfayaurPi3c</td>\n",
              "      <td>Be Alright</td>\n",
              "      <td>Dean Lewis</td>\n",
              "      <td>0.553</td>\n",
              "      <td>0.586</td>\n",
              "      <td>11.0</td>\n",
              "      <td>-6.319</td>\n",
              "      <td>1.0</td>\n",
              "      <td>0.0362</td>\n",
              "      <td>0.6970</td>\n",
              "      <td>0.000000</td>\n",
              "      <td>0.0813</td>\n",
              "      <td>0.4430</td>\n",
              "      <td>126.684</td>\n",
              "      <td>196373.0</td>\n",
              "      <td>4.0</td>\n",
              "    </tr>\n",
              "  </tbody>\n",
              "</table>\n",
              "</div>"
            ],
            "text/plain": [
              "                       id  ... time_signature\n",
              "95  630sXRhIcfwr2e4RdNtjK  ...            4.0\n",
              "96  2xmrfQpmS2iJExTlklLoA  ...            4.0\n",
              "97  5WvAo7DNuPRmk4APhdPzi  ...            5.0\n",
              "98  1j4kHkkpqZRBwE0A4CN4Y  ...            4.0\n",
              "99  3EPXxR3ImUwfayaurPi3c  ...            4.0\n",
              "\n",
              "[5 rows x 16 columns]"
            ]
          },
          "metadata": {
            "tags": []
          },
          "execution_count": 18
        }
      ]
    },
    {
      "cell_type": "code",
      "metadata": {
        "colab": {
          "base_uri": "https://localhost:8080/"
        },
        "id": "3TiqBH8Uaoeh",
        "outputId": "5f6dc20c-1a7f-4be9-a498-53dd7a2e256f"
      },
      "source": [
        "data.shape"
      ],
      "execution_count": null,
      "outputs": [
        {
          "output_type": "execute_result",
          "data": {
            "text/plain": [
              "(100, 16)"
            ]
          },
          "metadata": {
            "tags": []
          },
          "execution_count": 19
        }
      ]
    },
    {
      "cell_type": "code",
      "metadata": {
        "colab": {
          "base_uri": "https://localhost:8080/"
        },
        "id": "-x2f4ItPaq2B",
        "outputId": "f4444355-1aad-4490-bfac-9829533206d2"
      },
      "source": [
        "data.columns"
      ],
      "execution_count": null,
      "outputs": [
        {
          "output_type": "execute_result",
          "data": {
            "text/plain": [
              "Index(['id', 'name', 'artists', 'danceability', 'energy', 'key', 'loudness',\n",
              "       'mode', 'speechiness', 'acousticness', 'instrumentalness', 'liveness',\n",
              "       'valence', 'tempo', 'duration_ms', 'time_signature'],\n",
              "      dtype='object')"
            ]
          },
          "metadata": {
            "tags": []
          },
          "execution_count": 20
        }
      ]
    },
    {
      "cell_type": "code",
      "metadata": {
        "colab": {
          "base_uri": "https://localhost:8080/"
        },
        "id": "4aassbHWatq3",
        "outputId": "0729abb6-b06f-4ca8-e280-c3a17b4088a1"
      },
      "source": [
        "data['tempo'].describe()"
      ],
      "execution_count": null,
      "outputs": [
        {
          "output_type": "execute_result",
          "data": {
            "text/plain": [
              "count    100.000000\n",
              "mean     119.904180\n",
              "std       28.795984\n",
              "min       64.934000\n",
              "25%       95.730750\n",
              "50%      120.116000\n",
              "75%      140.022750\n",
              "max      198.075000\n",
              "Name: tempo, dtype: float64"
            ]
          },
          "metadata": {
            "tags": []
          },
          "execution_count": 21
        }
      ]
    },
    {
      "cell_type": "code",
      "metadata": {
        "colab": {
          "base_uri": "https://localhost:8080/",
          "height": 690
        },
        "id": "x1NK2bIBa0IV",
        "outputId": "c5ada253-3865-40ae-ea61-e2c68ca15b38"
      },
      "source": [
        "data.sort_index(axis=0, ascending=False)"
      ],
      "execution_count": null,
      "outputs": [
        {
          "output_type": "execute_result",
          "data": {
            "text/html": [
              "<div>\n",
              "<style scoped>\n",
              "    .dataframe tbody tr th:only-of-type {\n",
              "        vertical-align: middle;\n",
              "    }\n",
              "\n",
              "    .dataframe tbody tr th {\n",
              "        vertical-align: top;\n",
              "    }\n",
              "\n",
              "    .dataframe thead th {\n",
              "        text-align: right;\n",
              "    }\n",
              "</style>\n",
              "<table border=\"1\" class=\"dataframe\">\n",
              "  <thead>\n",
              "    <tr style=\"text-align: right;\">\n",
              "      <th></th>\n",
              "      <th>id</th>\n",
              "      <th>name</th>\n",
              "      <th>artists</th>\n",
              "      <th>danceability</th>\n",
              "      <th>energy</th>\n",
              "      <th>key</th>\n",
              "      <th>loudness</th>\n",
              "      <th>mode</th>\n",
              "      <th>speechiness</th>\n",
              "      <th>acousticness</th>\n",
              "      <th>instrumentalness</th>\n",
              "      <th>liveness</th>\n",
              "      <th>valence</th>\n",
              "      <th>tempo</th>\n",
              "      <th>duration_ms</th>\n",
              "      <th>time_signature</th>\n",
              "    </tr>\n",
              "  </thead>\n",
              "  <tbody>\n",
              "    <tr>\n",
              "      <th>99</th>\n",
              "      <td>3EPXxR3ImUwfayaurPi3c</td>\n",
              "      <td>Be Alright</td>\n",
              "      <td>Dean Lewis</td>\n",
              "      <td>0.553</td>\n",
              "      <td>0.586</td>\n",
              "      <td>11.0</td>\n",
              "      <td>-6.319</td>\n",
              "      <td>1.0</td>\n",
              "      <td>0.0362</td>\n",
              "      <td>0.6970</td>\n",
              "      <td>0.000000</td>\n",
              "      <td>0.0813</td>\n",
              "      <td>0.4430</td>\n",
              "      <td>126.684</td>\n",
              "      <td>196373.0</td>\n",
              "      <td>4.0</td>\n",
              "    </tr>\n",
              "    <tr>\n",
              "      <th>98</th>\n",
              "      <td>1j4kHkkpqZRBwE0A4CN4Y</td>\n",
              "      <td>Dusk Till Dawn - Radio Edit</td>\n",
              "      <td>ZAYN</td>\n",
              "      <td>0.258</td>\n",
              "      <td>0.437</td>\n",
              "      <td>11.0</td>\n",
              "      <td>-6.593</td>\n",
              "      <td>0.0</td>\n",
              "      <td>0.0390</td>\n",
              "      <td>0.1010</td>\n",
              "      <td>0.000001</td>\n",
              "      <td>0.1060</td>\n",
              "      <td>0.0967</td>\n",
              "      <td>180.043</td>\n",
              "      <td>239000.0</td>\n",
              "      <td>4.0</td>\n",
              "    </tr>\n",
              "    <tr>\n",
              "      <th>97</th>\n",
              "      <td>5WvAo7DNuPRmk4APhdPzi</td>\n",
              "      <td>No Brainer</td>\n",
              "      <td>DJ Khaled</td>\n",
              "      <td>0.552</td>\n",
              "      <td>0.760</td>\n",
              "      <td>0.0</td>\n",
              "      <td>-4.706</td>\n",
              "      <td>1.0</td>\n",
              "      <td>0.3420</td>\n",
              "      <td>0.0733</td>\n",
              "      <td>0.000000</td>\n",
              "      <td>0.0865</td>\n",
              "      <td>0.6390</td>\n",
              "      <td>135.702</td>\n",
              "      <td>260000.0</td>\n",
              "      <td>5.0</td>\n",
              "    </tr>\n",
              "    <tr>\n",
              "      <th>96</th>\n",
              "      <td>2xmrfQpmS2iJExTlklLoA</td>\n",
              "      <td>I Miss You (feat. Julia Michaels)</td>\n",
              "      <td>Clean Bandit</td>\n",
              "      <td>0.638</td>\n",
              "      <td>0.658</td>\n",
              "      <td>3.0</td>\n",
              "      <td>-6.318</td>\n",
              "      <td>1.0</td>\n",
              "      <td>0.0456</td>\n",
              "      <td>0.2450</td>\n",
              "      <td>0.000004</td>\n",
              "      <td>0.0919</td>\n",
              "      <td>0.3300</td>\n",
              "      <td>105.076</td>\n",
              "      <td>205748.0</td>\n",
              "      <td>4.0</td>\n",
              "    </tr>\n",
              "    <tr>\n",
              "      <th>95</th>\n",
              "      <td>630sXRhIcfwr2e4RdNtjK</td>\n",
              "      <td>Rewrite The Stars</td>\n",
              "      <td>Zac Efron</td>\n",
              "      <td>0.684</td>\n",
              "      <td>0.619</td>\n",
              "      <td>10.0</td>\n",
              "      <td>-7.005</td>\n",
              "      <td>1.0</td>\n",
              "      <td>0.0386</td>\n",
              "      <td>0.0716</td>\n",
              "      <td>0.000000</td>\n",
              "      <td>0.1220</td>\n",
              "      <td>0.2840</td>\n",
              "      <td>125.046</td>\n",
              "      <td>217440.0</td>\n",
              "      <td>4.0</td>\n",
              "    </tr>\n",
              "    <tr>\n",
              "      <th>...</th>\n",
              "      <td>...</td>\n",
              "      <td>...</td>\n",
              "      <td>...</td>\n",
              "      <td>...</td>\n",
              "      <td>...</td>\n",
              "      <td>...</td>\n",
              "      <td>...</td>\n",
              "      <td>...</td>\n",
              "      <td>...</td>\n",
              "      <td>...</td>\n",
              "      <td>...</td>\n",
              "      <td>...</td>\n",
              "      <td>...</td>\n",
              "      <td>...</td>\n",
              "      <td>...</td>\n",
              "      <td>...</td>\n",
              "    </tr>\n",
              "    <tr>\n",
              "      <th>4</th>\n",
              "      <td>2G7V7zsVDxg1yRsu7Ew9R</td>\n",
              "      <td>In My Feelings</td>\n",
              "      <td>Drake</td>\n",
              "      <td>0.835</td>\n",
              "      <td>0.626</td>\n",
              "      <td>1.0</td>\n",
              "      <td>-5.833</td>\n",
              "      <td>1.0</td>\n",
              "      <td>0.1250</td>\n",
              "      <td>0.0589</td>\n",
              "      <td>0.000060</td>\n",
              "      <td>0.3960</td>\n",
              "      <td>0.3500</td>\n",
              "      <td>91.030</td>\n",
              "      <td>217925.0</td>\n",
              "      <td>4.0</td>\n",
              "    </tr>\n",
              "    <tr>\n",
              "      <th>3</th>\n",
              "      <td>3swc6WTsr7rl9DqQKQA55</td>\n",
              "      <td>Psycho (feat. Ty Dolla $ign)</td>\n",
              "      <td>Post Malone</td>\n",
              "      <td>0.739</td>\n",
              "      <td>0.559</td>\n",
              "      <td>8.0</td>\n",
              "      <td>-8.011</td>\n",
              "      <td>1.0</td>\n",
              "      <td>0.1170</td>\n",
              "      <td>0.5800</td>\n",
              "      <td>0.000000</td>\n",
              "      <td>0.1120</td>\n",
              "      <td>0.4390</td>\n",
              "      <td>140.124</td>\n",
              "      <td>221440.0</td>\n",
              "      <td>4.0</td>\n",
              "    </tr>\n",
              "    <tr>\n",
              "      <th>2</th>\n",
              "      <td>0e7ipj03S05BNilyu5bRz</td>\n",
              "      <td>rockstar (feat. 21 Savage)</td>\n",
              "      <td>Post Malone</td>\n",
              "      <td>0.587</td>\n",
              "      <td>0.535</td>\n",
              "      <td>5.0</td>\n",
              "      <td>-6.090</td>\n",
              "      <td>0.0</td>\n",
              "      <td>0.0898</td>\n",
              "      <td>0.1170</td>\n",
              "      <td>0.000066</td>\n",
              "      <td>0.1310</td>\n",
              "      <td>0.1400</td>\n",
              "      <td>159.847</td>\n",
              "      <td>218147.0</td>\n",
              "      <td>4.0</td>\n",
              "    </tr>\n",
              "    <tr>\n",
              "      <th>1</th>\n",
              "      <td>3ee8Jmje8o58CHK66QrVC</td>\n",
              "      <td>SAD!</td>\n",
              "      <td>XXXTENTACION</td>\n",
              "      <td>0.740</td>\n",
              "      <td>0.613</td>\n",
              "      <td>8.0</td>\n",
              "      <td>-4.880</td>\n",
              "      <td>1.0</td>\n",
              "      <td>0.1450</td>\n",
              "      <td>0.2580</td>\n",
              "      <td>0.003720</td>\n",
              "      <td>0.1230</td>\n",
              "      <td>0.4730</td>\n",
              "      <td>75.023</td>\n",
              "      <td>166606.0</td>\n",
              "      <td>4.0</td>\n",
              "    </tr>\n",
              "    <tr>\n",
              "      <th>0</th>\n",
              "      <td>6DCZcSspjsKoFjzjrWoCd</td>\n",
              "      <td>God's Plan</td>\n",
              "      <td>Drake</td>\n",
              "      <td>0.754</td>\n",
              "      <td>0.449</td>\n",
              "      <td>7.0</td>\n",
              "      <td>-9.211</td>\n",
              "      <td>1.0</td>\n",
              "      <td>0.1090</td>\n",
              "      <td>0.0332</td>\n",
              "      <td>0.000083</td>\n",
              "      <td>0.5520</td>\n",
              "      <td>0.3570</td>\n",
              "      <td>77.169</td>\n",
              "      <td>198973.0</td>\n",
              "      <td>4.0</td>\n",
              "    </tr>\n",
              "  </tbody>\n",
              "</table>\n",
              "<p>100 rows × 16 columns</p>\n",
              "</div>"
            ],
            "text/plain": [
              "                       id  ... time_signature\n",
              "99  3EPXxR3ImUwfayaurPi3c  ...            4.0\n",
              "98  1j4kHkkpqZRBwE0A4CN4Y  ...            4.0\n",
              "97  5WvAo7DNuPRmk4APhdPzi  ...            5.0\n",
              "96  2xmrfQpmS2iJExTlklLoA  ...            4.0\n",
              "95  630sXRhIcfwr2e4RdNtjK  ...            4.0\n",
              "..                    ...  ...            ...\n",
              "4   2G7V7zsVDxg1yRsu7Ew9R  ...            4.0\n",
              "3   3swc6WTsr7rl9DqQKQA55  ...            4.0\n",
              "2   0e7ipj03S05BNilyu5bRz  ...            4.0\n",
              "1   3ee8Jmje8o58CHK66QrVC  ...            4.0\n",
              "0   6DCZcSspjsKoFjzjrWoCd  ...            4.0\n",
              "\n",
              "[100 rows x 16 columns]"
            ]
          },
          "metadata": {
            "tags": []
          },
          "execution_count": 26
        }
      ]
    },
    {
      "cell_type": "code",
      "metadata": {
        "colab": {
          "base_uri": "https://localhost:8080/",
          "height": 402
        },
        "id": "HEpnwK_Ja6of",
        "outputId": "bb37403e-f118-436a-b301-db07b283af8e"
      },
      "source": [
        "my_data = data[['name','artists', 'energy']]\n",
        "my_data.sort_values(by='energy',axis=0, ascending=False)"
      ],
      "execution_count": null,
      "outputs": [
        {
          "output_type": "execute_result",
          "data": {
            "text/html": [
              "<div>\n",
              "<style scoped>\n",
              "    .dataframe tbody tr th:only-of-type {\n",
              "        vertical-align: middle;\n",
              "    }\n",
              "\n",
              "    .dataframe tbody tr th {\n",
              "        vertical-align: top;\n",
              "    }\n",
              "\n",
              "    .dataframe thead th {\n",
              "        text-align: right;\n",
              "    }\n",
              "</style>\n",
              "<table border=\"1\" class=\"dataframe\">\n",
              "  <thead>\n",
              "    <tr style=\"text-align: right;\">\n",
              "      <th></th>\n",
              "      <th>name</th>\n",
              "      <th>artists</th>\n",
              "      <th>energy</th>\n",
              "    </tr>\n",
              "  </thead>\n",
              "  <tbody>\n",
              "    <tr>\n",
              "      <th>12</th>\n",
              "      <td>Nice For What</td>\n",
              "      <td>Drake</td>\n",
              "      <td>0.909</td>\n",
              "    </tr>\n",
              "    <tr>\n",
              "      <th>77</th>\n",
              "      <td>1, 2, 3 (feat. Jason Derulo &amp; De La Ghetto)</td>\n",
              "      <td>Sofia Reyes</td>\n",
              "      <td>0.895</td>\n",
              "    </tr>\n",
              "    <tr>\n",
              "      <th>34</th>\n",
              "      <td>?chame La Culpa</td>\n",
              "      <td>Luis Fonsi</td>\n",
              "      <td>0.889</td>\n",
              "    </tr>\n",
              "    <tr>\n",
              "      <th>9</th>\n",
              "      <td>FRIENDS</td>\n",
              "      <td>Marshmello</td>\n",
              "      <td>0.880</td>\n",
              "    </tr>\n",
              "    <tr>\n",
              "      <th>7</th>\n",
              "      <td>One Kiss (with Dua Lipa)</td>\n",
              "      <td>Calvin Harris</td>\n",
              "      <td>0.862</td>\n",
              "    </tr>\n",
              "    <tr>\n",
              "      <th>...</th>\n",
              "      <td>...</td>\n",
              "      <td>...</td>\n",
              "      <td>...</td>\n",
              "    </tr>\n",
              "    <tr>\n",
              "      <th>52</th>\n",
              "      <td>Too Good At Goodbyes</td>\n",
              "      <td>Sam Smith</td>\n",
              "      <td>0.375</td>\n",
              "    </tr>\n",
              "    <tr>\n",
              "      <th>91</th>\n",
              "      <td>Yes Indeed</td>\n",
              "      <td>Lil Baby</td>\n",
              "      <td>0.346</td>\n",
              "    </tr>\n",
              "    <tr>\n",
              "      <th>38</th>\n",
              "      <td>changes</td>\n",
              "      <td>XXXTENTACION</td>\n",
              "      <td>0.308</td>\n",
              "    </tr>\n",
              "    <tr>\n",
              "      <th>84</th>\n",
              "      <td>Perfect Duet (Ed Sheeran &amp; Beyonc?)</td>\n",
              "      <td>Ed Sheeran</td>\n",
              "      <td>0.299</td>\n",
              "    </tr>\n",
              "    <tr>\n",
              "      <th>80</th>\n",
              "      <td>lovely (with Khalid)</td>\n",
              "      <td>Billie Eilish</td>\n",
              "      <td>0.296</td>\n",
              "    </tr>\n",
              "  </tbody>\n",
              "</table>\n",
              "<p>100 rows × 3 columns</p>\n",
              "</div>"
            ],
            "text/plain": [
              "                                           name        artists  energy\n",
              "12                                Nice For What          Drake   0.909\n",
              "77  1, 2, 3 (feat. Jason Derulo & De La Ghetto)    Sofia Reyes   0.895\n",
              "34                              ?chame La Culpa     Luis Fonsi   0.889\n",
              "9                                       FRIENDS     Marshmello   0.880\n",
              "7                      One Kiss (with Dua Lipa)  Calvin Harris   0.862\n",
              "..                                          ...            ...     ...\n",
              "52                         Too Good At Goodbyes      Sam Smith   0.375\n",
              "91                                   Yes Indeed       Lil Baby   0.346\n",
              "38                                      changes   XXXTENTACION   0.308\n",
              "84          Perfect Duet (Ed Sheeran & Beyonc?)     Ed Sheeran   0.299\n",
              "80                         lovely (with Khalid)  Billie Eilish   0.296\n",
              "\n",
              "[100 rows x 3 columns]"
            ]
          },
          "metadata": {
            "tags": []
          },
          "execution_count": 38
        }
      ]
    },
    {
      "cell_type": "code",
      "metadata": {
        "id": "w8u68gywbVFB"
      },
      "source": [
        ""
      ],
      "execution_count": null,
      "outputs": []
    }
  ]
}