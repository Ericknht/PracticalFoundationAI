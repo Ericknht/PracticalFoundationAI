{
  "nbformat": 4,
  "nbformat_minor": 0,
  "metadata": {
    "colab": {
      "name": "numpy.ipynb",
      "provenance": [],
      "authorship_tag": "ABX9TyO10WZLus+XjMRfLxxU/4si",
      "include_colab_link": true
    },
    "kernelspec": {
      "name": "python3",
      "display_name": "Python 3"
    }
  },
  "cells": [
    {
      "cell_type": "markdown",
      "metadata": {
        "id": "view-in-github",
        "colab_type": "text"
      },
      "source": [
        "<a href=\"https://colab.research.google.com/github/Ericknht/PracticalFoundationAI/blob/main/numpy.ipynb\" target=\"_parent\"><img src=\"https://colab.research.google.com/assets/colab-badge.svg\" alt=\"Open In Colab\"/></a>"
      ]
    },
    {
      "cell_type": "code",
      "metadata": {
        "id": "cbItDvx79ZCH"
      },
      "source": [
        "import numpy as np"
      ],
      "execution_count": null,
      "outputs": []
    },
    {
      "cell_type": "code",
      "metadata": {
        "colab": {
          "base_uri": "https://localhost:8080/"
        },
        "id": "kZlzQwoM92Bd",
        "outputId": "2b715625-1856-4259-dc57-9ea62ae28723"
      },
      "source": [
        "np.array([10, 20, 24, 5, 15, 50])"
      ],
      "execution_count": null,
      "outputs": [
        {
          "output_type": "execute_result",
          "data": {
            "text/plain": [
              "array([10, 20, 24,  5, 15, 50])"
            ]
          },
          "metadata": {
            "tags": []
          },
          "execution_count": 2
        }
      ]
    },
    {
      "cell_type": "code",
      "metadata": {
        "colab": {
          "base_uri": "https://localhost:8080/"
        },
        "id": "Fy8oubW4NOE-",
        "outputId": "862c30bf-7b0d-46ae-bacf-ee64671721de"
      },
      "source": [
        "a = np.array([10, 30, 20, 4 ,30, 51, 7, 2, 4, 40, 100])\n",
        "a[4]"
      ],
      "execution_count": null,
      "outputs": [
        {
          "output_type": "execute_result",
          "data": {
            "text/plain": [
              "30"
            ]
          },
          "metadata": {
            "tags": []
          },
          "execution_count": 3
        }
      ]
    },
    {
      "cell_type": "code",
      "metadata": {
        "colab": {
          "base_uri": "https://localhost:8080/"
        },
        "id": "aCd2DzTnNWyo",
        "outputId": "e0640aa1-f80d-4fbe-b90e-4289f086a161"
      },
      "source": [
        "a[3:]"
      ],
      "execution_count": null,
      "outputs": [
        {
          "output_type": "execute_result",
          "data": {
            "text/plain": [
              "array([  4,  30,  51,   7,   2,   4,  40, 100])"
            ]
          },
          "metadata": {
            "tags": []
          },
          "execution_count": 4
        }
      ]
    },
    {
      "cell_type": "code",
      "metadata": {
        "colab": {
          "base_uri": "https://localhost:8080/"
        },
        "id": "CmYNq85sNfh_",
        "outputId": "64daf575-2bfb-4cc8-e020-ee33f9b425e0"
      },
      "source": [
        "a[3:7]"
      ],
      "execution_count": null,
      "outputs": [
        {
          "output_type": "execute_result",
          "data": {
            "text/plain": [
              "array([ 4, 30, 51,  7])"
            ]
          },
          "metadata": {
            "tags": []
          },
          "execution_count": 5
        }
      ]
    },
    {
      "cell_type": "code",
      "metadata": {
        "colab": {
          "base_uri": "https://localhost:8080/"
        },
        "id": "LGGTkXaVNmSu",
        "outputId": "4121b4be-5e91-4d9b-97e9-124f39c41fce"
      },
      "source": [
        "a[1::4]"
      ],
      "execution_count": null,
      "outputs": [
        {
          "output_type": "execute_result",
          "data": {
            "text/plain": [
              "array([30, 51, 40])"
            ]
          },
          "metadata": {
            "tags": []
          },
          "execution_count": 6
        }
      ]
    },
    {
      "cell_type": "code",
      "metadata": {
        "colab": {
          "base_uri": "https://localhost:8080/"
        },
        "id": "0_R2J7-zNtwO",
        "outputId": "2038d15a-a170-4136-b044-49bbaee37ecf"
      },
      "source": [
        "np.zeros(5)"
      ],
      "execution_count": null,
      "outputs": [
        {
          "output_type": "execute_result",
          "data": {
            "text/plain": [
              "array([0., 0., 0., 0., 0.])"
            ]
          },
          "metadata": {
            "tags": []
          },
          "execution_count": 7
        }
      ]
    },
    {
      "cell_type": "code",
      "metadata": {
        "colab": {
          "base_uri": "https://localhost:8080/"
        },
        "id": "SFGWgAhoN38-",
        "outputId": "ad409f5c-29c2-4c6a-f37a-b7b9e67547ac"
      },
      "source": [
        "ones = np.ones((4, 5))\n",
        "ones"
      ],
      "execution_count": null,
      "outputs": [
        {
          "output_type": "execute_result",
          "data": {
            "text/plain": [
              "array([[1., 1., 1., 1., 1.],\n",
              "       [1., 1., 1., 1., 1.],\n",
              "       [1., 1., 1., 1., 1.],\n",
              "       [1., 1., 1., 1., 1.]])"
            ]
          },
          "metadata": {
            "tags": []
          },
          "execution_count": 8
        }
      ]
    },
    {
      "cell_type": "code",
      "metadata": {
        "colab": {
          "base_uri": "https://localhost:8080/"
        },
        "id": "ZKJPPRBhN-Hk",
        "outputId": "3f3822a0-0923-4c77-af58-c6e71f9558c8"
      },
      "source": [
        "np.ones(4)"
      ],
      "execution_count": null,
      "outputs": [
        {
          "output_type": "execute_result",
          "data": {
            "text/plain": [
              "array([1., 1., 1., 1.])"
            ]
          },
          "metadata": {
            "tags": []
          },
          "execution_count": 9
        }
      ]
    },
    {
      "cell_type": "code",
      "metadata": {
        "colab": {
          "base_uri": "https://localhost:8080/"
        },
        "id": "_fgbwYd1ODDd",
        "outputId": "2522d240-d39f-4f1b-814c-00166a669a64"
      },
      "source": [
        "np.zeros((2,3))"
      ],
      "execution_count": null,
      "outputs": [
        {
          "output_type": "execute_result",
          "data": {
            "text/plain": [
              "array([[0., 0., 0.],\n",
              "       [0., 0., 0.]])"
            ]
          },
          "metadata": {
            "tags": []
          },
          "execution_count": 10
        }
      ]
    },
    {
      "cell_type": "code",
      "metadata": {
        "colab": {
          "base_uri": "https://localhost:8080/"
        },
        "id": "yA9z1PfzOGA0",
        "outputId": "95d3445f-17e3-4389-8c77-bb23423a0ca8"
      },
      "source": [
        "type(np.ones)"
      ],
      "execution_count": null,
      "outputs": [
        {
          "output_type": "execute_result",
          "data": {
            "text/plain": [
              "function"
            ]
          },
          "metadata": {
            "tags": []
          },
          "execution_count": 11
        }
      ]
    },
    {
      "cell_type": "code",
      "metadata": {
        "colab": {
          "base_uri": "https://localhost:8080/"
        },
        "id": "FdokjPhPOKJ7",
        "outputId": "db911f22-0888-4e03-db8f-15a8b7c36402"
      },
      "source": [
        "type(np.ones((4, 5)))"
      ],
      "execution_count": null,
      "outputs": [
        {
          "output_type": "execute_result",
          "data": {
            "text/plain": [
              "numpy.ndarray"
            ]
          },
          "metadata": {
            "tags": []
          },
          "execution_count": 12
        }
      ]
    },
    {
      "cell_type": "code",
      "metadata": {
        "colab": {
          "base_uri": "https://localhost:8080/"
        },
        "id": "9COQvYPBOdOy",
        "outputId": "4c15cea2-bed3-47fb-fe95-9fe5e5cb941a"
      },
      "source": [
        "type(ones[3][1])"
      ],
      "execution_count": null,
      "outputs": [
        {
          "output_type": "execute_result",
          "data": {
            "text/plain": [
              "numpy.float64"
            ]
          },
          "metadata": {
            "tags": []
          },
          "execution_count": 13
        }
      ]
    },
    {
      "cell_type": "code",
      "metadata": {
        "colab": {
          "base_uri": "https://localhost:8080/"
        },
        "id": "sx_RCLYQOlb0",
        "outputId": "99b85bd4-0f8c-4f6b-bd63-437263f71994"
      },
      "source": [
        "np.linspace(3, 10, 5)"
      ],
      "execution_count": null,
      "outputs": [
        {
          "output_type": "execute_result",
          "data": {
            "text/plain": [
              "array([ 3.  ,  4.75,  6.5 ,  8.25, 10.  ])"
            ]
          },
          "metadata": {
            "tags": []
          },
          "execution_count": 14
        }
      ]
    },
    {
      "cell_type": "code",
      "metadata": {
        "colab": {
          "base_uri": "https://localhost:8080/"
        },
        "id": "u3P_BZQQO1BB",
        "outputId": "f1d9c793-49fe-4a8d-fa9d-b9ad1a2699ae"
      },
      "source": [
        "b = np.array([['x', 'y', 'z'],['a','c','e']])\n",
        "print(b)\n",
        "type(b)"
      ],
      "execution_count": null,
      "outputs": [
        {
          "output_type": "stream",
          "text": [
            "[['x' 'y' 'z']\n",
            " ['a' 'c' 'e']]\n"
          ],
          "name": "stdout"
        },
        {
          "output_type": "execute_result",
          "data": {
            "text/plain": [
              "numpy.ndarray"
            ]
          },
          "metadata": {
            "tags": []
          },
          "execution_count": 15
        }
      ]
    },
    {
      "cell_type": "code",
      "metadata": {
        "colab": {
          "base_uri": "https://localhost:8080/"
        },
        "id": "heGa5vzkPEhB",
        "outputId": "cccd2c02-289e-4519-908f-6d063120698b"
      },
      "source": [
        "b.ndim # número de dimensiones"
      ],
      "execution_count": null,
      "outputs": [
        {
          "output_type": "execute_result",
          "data": {
            "text/plain": [
              "2"
            ]
          },
          "metadata": {
            "tags": []
          },
          "execution_count": 16
        }
      ]
    },
    {
      "cell_type": "code",
      "metadata": {
        "colab": {
          "base_uri": "https://localhost:8080/"
        },
        "id": "3ymnMpNbPKCD",
        "outputId": "467fcdbf-1d02-49cb-afef-b7fae92f2aba"
      },
      "source": [
        "c = [12, 4 ,10, 40, 2]\n",
        "np.sort(c)"
      ],
      "execution_count": null,
      "outputs": [
        {
          "output_type": "execute_result",
          "data": {
            "text/plain": [
              "array([ 2,  4, 10, 12, 40])"
            ]
          },
          "metadata": {
            "tags": []
          },
          "execution_count": 17
        }
      ]
    },
    {
      "cell_type": "code",
      "metadata": {
        "colab": {
          "base_uri": "https://localhost:8080/"
        },
        "id": "GGGzlpgOPROH",
        "outputId": "0ccbf0d3-0985-43cd-8a77-d8aff9ad0fb1"
      },
      "source": [
        "cabeceras = [('nombre', 'S10'), ('edad', int)]\n",
        "datos = [('Juan', 10), ('Maria', 70), ('Javier', 42), ('Samuel', 15)]\n",
        "usuarios = np.array(datos, dtype = cabeceras)\n",
        "\n",
        "np.sort(usuarios, order = 'edad')"
      ],
      "execution_count": null,
      "outputs": [
        {
          "output_type": "execute_result",
          "data": {
            "text/plain": [
              "array([(b'Juan', 10), (b'Samuel', 15), (b'Javier', 42), (b'Maria', 70)],\n",
              "      dtype=[('nombre', 'S10'), ('edad', '<i8')])"
            ]
          },
          "metadata": {
            "tags": []
          },
          "execution_count": 18
        }
      ]
    },
    {
      "cell_type": "code",
      "metadata": {
        "colab": {
          "base_uri": "https://localhost:8080/"
        },
        "id": "CVFV0FoWPnDn",
        "outputId": "84cb647e-f5a5-4c8c-f7be-5840ac016f2d"
      },
      "source": [
        "np.arange(25)"
      ],
      "execution_count": null,
      "outputs": [
        {
          "output_type": "execute_result",
          "data": {
            "text/plain": [
              "array([ 0,  1,  2,  3,  4,  5,  6,  7,  8,  9, 10, 11, 12, 13, 14, 15, 16,\n",
              "       17, 18, 19, 20, 21, 22, 23, 24])"
            ]
          },
          "metadata": {
            "tags": []
          },
          "execution_count": 19
        }
      ]
    },
    {
      "cell_type": "code",
      "metadata": {
        "colab": {
          "base_uri": "https://localhost:8080/"
        },
        "id": "PhMcewDuQ1Sf",
        "outputId": "af84d591-cadf-4e27-9a09-47b83b2982f1"
      },
      "source": [
        "np.arange(5, 30)"
      ],
      "execution_count": null,
      "outputs": [
        {
          "output_type": "execute_result",
          "data": {
            "text/plain": [
              "array([ 5,  6,  7,  8,  9, 10, 11, 12, 13, 14, 15, 16, 17, 18, 19, 20, 21,\n",
              "       22, 23, 24, 25, 26, 27, 28, 29])"
            ]
          },
          "metadata": {
            "tags": []
          },
          "execution_count": 20
        }
      ]
    },
    {
      "cell_type": "code",
      "metadata": {
        "colab": {
          "base_uri": "https://localhost:8080/"
        },
        "id": "3h24Nn1fR06f",
        "outputId": "014e464e-43be-441c-88b0-459027e0d6b4"
      },
      "source": [
        "np.arange(5, 50, 5)"
      ],
      "execution_count": null,
      "outputs": [
        {
          "output_type": "execute_result",
          "data": {
            "text/plain": [
              "array([ 5, 10, 15, 20, 25, 30, 35, 40, 45])"
            ]
          },
          "metadata": {
            "tags": []
          },
          "execution_count": 21
        }
      ]
    },
    {
      "cell_type": "code",
      "metadata": {
        "colab": {
          "base_uri": "https://localhost:8080/"
        },
        "id": "0yi6-cw1R4Rf",
        "outputId": "3b61de4a-5616-48a7-a5eb-6420342feedd"
      },
      "source": [
        "np.full((3, 5), 10)"
      ],
      "execution_count": null,
      "outputs": [
        {
          "output_type": "execute_result",
          "data": {
            "text/plain": [
              "array([[10, 10, 10, 10, 10],\n",
              "       [10, 10, 10, 10, 10],\n",
              "       [10, 10, 10, 10, 10]])"
            ]
          },
          "metadata": {
            "tags": []
          },
          "execution_count": 22
        }
      ]
    },
    {
      "cell_type": "code",
      "metadata": {
        "colab": {
          "base_uri": "https://localhost:8080/"
        },
        "id": "HFq0MwO3SDpI",
        "outputId": "991fa382-7c63-402f-fd11-3e6ac657617a"
      },
      "source": [
        "np.diag([0,3,9,10])"
      ],
      "execution_count": null,
      "outputs": [
        {
          "output_type": "execute_result",
          "data": {
            "text/plain": [
              "array([[ 0,  0,  0,  0],\n",
              "       [ 0,  3,  0,  0],\n",
              "       [ 0,  0,  9,  0],\n",
              "       [ 0,  0,  0, 10]])"
            ]
          },
          "metadata": {
            "tags": []
          },
          "execution_count": 23
        }
      ]
    },
    {
      "cell_type": "code",
      "metadata": {
        "colab": {
          "base_uri": "https://localhost:8080/"
        },
        "id": "w7snZnzBSIbv",
        "outputId": "d6c364ce-366a-4331-9402-53604e9c9b16"
      },
      "source": [
        "cabeceras = [('nombre', 'S10'), ('edad', int), ('pais', 'S10')]\n",
        "datos = [('Juan', 10, 'Chile'), ('Maria', 70, 'Colombia'), ('Javier', 42, 'Brasil'), ('Samuel', 15, 'Argentina')]\n",
        "usuarios = np.array(datos, dtype = cabeceras)\n",
        "\n",
        "np.sort(usuarios, order = 'edad')"
      ],
      "execution_count": null,
      "outputs": [
        {
          "output_type": "execute_result",
          "data": {
            "text/plain": [
              "array([(b'Juan', 10, b'Chile'), (b'Samuel', 15, b'Argentina'),\n",
              "       (b'Javier', 42, b'Brasil'), (b'Maria', 70, b'Colombia')],\n",
              "      dtype=[('nombre', 'S10'), ('edad', '<i8'), ('pais', 'S10')])"
            ]
          },
          "metadata": {
            "tags": []
          },
          "execution_count": 24
        }
      ]
    },
    {
      "cell_type": "code",
      "metadata": {
        "id": "KYiybmbhSrOz",
        "colab": {
          "base_uri": "https://localhost:8080/"
        },
        "outputId": "05a42421-039d-4262-ace8-458633cfeb00"
      },
      "source": [
        "np.sort(usuarios, order = 'pais')"
      ],
      "execution_count": null,
      "outputs": [
        {
          "output_type": "execute_result",
          "data": {
            "text/plain": [
              "array([(b'Samuel', 15, b'Argentina'), (b'Javier', 42, b'Brasil'),\n",
              "       (b'Juan', 10, b'Chile'), (b'Maria', 70, b'Colombia')],\n",
              "      dtype=[('nombre', 'S10'), ('edad', '<i8'), ('pais', 'S10')])"
            ]
          },
          "metadata": {
            "tags": []
          },
          "execution_count": 25
        }
      ]
    },
    {
      "cell_type": "code",
      "metadata": {
        "id": "HEUouYobStBC",
        "colab": {
          "base_uri": "https://localhost:8080/"
        },
        "outputId": "e6b2b8fe-7770-47e7-a753-7a88c33a9c25"
      },
      "source": [
        "np.sort(usuarios, order = 'nombre')"
      ],
      "execution_count": null,
      "outputs": [
        {
          "output_type": "execute_result",
          "data": {
            "text/plain": [
              "array([(b'Javier', 42, b'Brasil'), (b'Juan', 10, b'Chile'),\n",
              "       (b'Maria', 70, b'Colombia'), (b'Samuel', 15, b'Argentina')],\n",
              "      dtype=[('nombre', 'S10'), ('edad', '<i8'), ('pais', 'S10')])"
            ]
          },
          "metadata": {
            "tags": []
          },
          "execution_count": 26
        }
      ]
    },
    {
      "cell_type": "code",
      "metadata": {
        "id": "IWs3BAQ1SvjS"
      },
      "source": [
        ""
      ],
      "execution_count": null,
      "outputs": []
    }
  ]
}